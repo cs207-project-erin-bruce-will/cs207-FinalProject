{
 "cells": [
  {
   "cell_type": "markdown",
   "metadata": {},
   "source": [
    "# <img style=\"float: left; padding-right: 10px; width: 45px\" src=\"https://raw.githubusercontent.com/Harvard-IACS/2018-CS109A/master/content/styles/iacs.png\"> CS207 Systems Development for Computational Science: \n",
    "## Implementation Demo\n",
    "\n",
    "\n",
    "\n",
    "**Harvard University**<br/>\n",
    "**Fall 2018**<br/>\n",
    "**Team Members**: Will Claybaugh, Erin Williams, and Bruce Xiong\n",
    "\n",
    "<hr style=\"height:2pt\">"
   ]
  },
  {
   "cell_type": "markdown",
   "metadata": {},
   "source": [
    "For powers/roots/exponential functions, the generic form is as the following:<br/>\n",
    "$$f(x)=\\left[u(x)\\right]^{v(x)}$$\n",
    "\n",
    "Therefore when we implement the derivatives, including the very special case such as $y=x^x$, the following chain rule applies:<br/>\n",
    "$$\\frac{df(x)}{dx}=\\frac{d\\left[u(x)\\right]^{v(x)}}{dx}=v(x)\\left[u(x)\\right]^{v(x)-1}\\cdot u'(x)+\\left[u(x)\\right]^{v(x)}\\cdot ln(u(x))\\cdot v'(x)$$"
   ]
  },
  {
   "cell_type": "code",
   "execution_count": 1,
   "metadata": {},
   "outputs": [],
   "source": [
    "# powers/roots/exponential\n",
    "import numpy as np\n",
    "class autoDiff():\n",
    "    def __init__(self, a):\n",
    "        # Constructor to set up dual number\n",
    "        self.val = a\n",
    "        self.deriv = 1\n",
    "        \n",
    "    def __add__(self, other):\n",
    "        try:\n",
    "            y = autoDiff(self.val + other.val)\n",
    "            y.deriv = self.deriv + other.deriv\n",
    "        except AttributeError:\n",
    "            y = autoDiff(self.val + other)\n",
    "            y.deriv = self.deriv\n",
    "        return y\n",
    "    \n",
    "    __radd__ = __add__\n",
    "    \n",
    "    def __sub__(self, other):\n",
    "        try:\n",
    "            y = autoDiff(self.val - other.val)\n",
    "            y.deriv = self.deriv - other.deriv\n",
    "        except AttributeError:\n",
    "            y = autoDiff(self.val - other)\n",
    "            y.deriv = self.deriv\n",
    "        return y\n",
    "            \n",
    "    def __rsub__(self, other):\n",
    "        try:\n",
    "            y = autoDiff(self.val - other.val)\n",
    "            y.deriv = self.deriv - other.deriv\n",
    "        except AttributeError:\n",
    "            y = autoDiff(other - self.val)\n",
    "            y.deriv = -self.deriv\n",
    "        return y\n",
    "    \n",
    "    def __mul__(self, other):\n",
    "        try:\n",
    "            y = autoDiff(self.val * other.val)\n",
    "            y.deriv = self.val * other.deriv + self.deriv * other.val\n",
    "        except AttributeError:\n",
    "            y = autoDiff(self.val * other)\n",
    "            y.deriv = self.deriv * other\n",
    "        return y\n",
    "    \n",
    "    __rmul__ = __mul__\n",
    "    \n",
    "    def __truediv__(self, other):\n",
    "        try:\n",
    "            y = autoDiff(self.val/other.val)\n",
    "            y.deriv = (self.deriv*other.val - self.val*other.deriv)/((other.val)**2)\n",
    "        except AttributeError:\n",
    "            y = autoDiff(self.val/other)\n",
    "            y.deriv = self.deriv/other\n",
    "        return y\n",
    "    \n",
    "    def __rtruediv__(self, other):\n",
    "        try:\n",
    "            y = autoDiff(self.val/other.val)\n",
    "            y.deriv = (self.deriv*other.val - self.val*other.deriv)/((other.val)**2)\n",
    "        except AttributeError:\n",
    "            y = autoDiff(other/self.val)\n",
    "            y.deriv = -other/((self.val)**2)*self.deriv\n",
    "        return y            \n",
    "    \n",
    "    def __neg__(self):\n",
    "        try:\n",
    "            y = autoDiff(-self.val)\n",
    "            y.deriv = -self.deriv\n",
    "        except AttributeError:\n",
    "            y = autoDiff(-self)\n",
    "            y.deriv = -self\n",
    "        return y\n",
    "    \n",
    "    def __pow__(self, other): #self^other => self = u(x) and other = v(x)\n",
    "        try:\n",
    "            y = autoDiff(self.val**(other.val))\n",
    "            y.deriv = other.val*((self.val)**(other.val-1))*self.deriv + ((self.val)**(other.val))*(np.log(self.val))*other.deriv\n",
    "        except AttributeError: #x^a:\n",
    "            y = autoDiff(self.val**other)\n",
    "            y.deriv = other*((self.val)**(other-1))*self.deriv\n",
    "        return y\n",
    "    \n",
    "    def exp(other, self):\n",
    "        try: # we may not necesarily implement this try part\n",
    "            y = autoDiff(other.val**(self.val))\n",
    "            y.deriv = other.val*((other.val)**(self.val-1))*other.deriv + ((other.val)**(self.val))*(np.log(other.val))*self.deriv\n",
    "        except AttributeError:\n",
    "            y = autoDiff(other**(self.val))\n",
    "            y.deriv = other**(self.val)*np.log(other)*self.deriv\n",
    "        return y\n",
    "    \n",
    "    def log(other, self):\n",
    "        try:\n",
    "            y = autoDiff(np.log(self.val)/np.log(other.val))\n",
    "            y.deriv = (self.deriv*np.log(other.val)/self.val - other.deriv*np.log(self.val)/other.val)/(np.log(other.val)**2)\n",
    "        except AttributeError:\n",
    "            y = autoDiff(np.log(self.val)/np.log(other))\n",
    "            y.deriv = 1/self.val/np.log(other)*self.deriv                \n",
    "        return y\n",
    "        \n",
    "    def logx(self, other):#when base is a function of x\n",
    "        try:\n",
    "            y = autoDiff(np.log(other.val)/np.log(self.val))\n",
    "            y.deriv = (other.deriv*np.log(self.val)/other.val - self.deriv*np.log(other.val)/self.val)/(np.log(self.val)**2)\n",
    "        except AttributeError:\n",
    "            y = autoDiff(np.log(other)/np.log(self.val))\n",
    "            y.deriv = -np.log(other)*self.deriv/self.val/((np.log(self.val))**2)\n",
    "        return y\n",
    "        \n",
    "    def sin(self):\n",
    "        try:\n",
    "            y = autoDiff(np.sin(self.val))\n",
    "            y.deriv = np.cos(self.val)*self.deriv\n",
    "        except AttributeError:\n",
    "            y = autoDiff(np.sin(self))\n",
    "            y.deriv = 0\n",
    "        return y\n",
    "        \n",
    "    def cos(self):\n",
    "        try:\n",
    "            y = autoDiff(np.cos(self.val))\n",
    "            y.deriv = -np.sin(self.val)*self.deriv\n",
    "        except AttributeError:\n",
    "            y = autoDiff(np.cos(self))\n",
    "            y.deriv = 0\n",
    "        return y\n",
    "        \n",
    "    def tan(self): #need to check 0 in denominator\n",
    "        a = autoDiff.sin(self)\n",
    "        b = autoDiff.cos(self)\n",
    "        y = a/b\n",
    "        return y\n",
    "    \n",
    "    def cot(self):\n",
    "        a = autoDiff.tan(self)\n",
    "        y = 1/a\n",
    "        return y\n",
    "    \n",
    "    def sec(self):\n",
    "        a = autoDiff.sin(self)\n",
    "        y = 1/a\n",
    "        return y\n",
    "    \n",
    "    def csc(self):\n",
    "        a = autoDiff.cos(self)\n",
    "        y = 1/a\n",
    "        return y\n",
    "    \n",
    "    def arcsin(self): # must make sure self is strictly between -1 and 1, exclusive\n",
    "        if type(self)==autoDiff and (self.val<-1 or self.val>1): # out of domain\n",
    "            raise Exception('The value entering into arcsin function must be strictly within -1 and 1.')\n",
    "            \n",
    "        if type(self)!=autoDiff and (self<-1 or self>1):\n",
    "            raise Exception('The value entering into arcsin function must be strictly within -1 and 1.')\n",
    "            \n",
    "        try:\n",
    "            y = autoDiff(np.arcsin(self.val))\n",
    "            y.deriv = 1/((1-self.val**2)**(0.5))*self.deriv\n",
    "        except AttributeError:\n",
    "            y = autoDiff(np.arcsin(self))\n",
    "            y.deriv = 0\n",
    "        return y\n",
    "            \n",
    "    def arccos(self):\n",
    "        a = autoDiff.arcsin(self)\n",
    "        y = np.pi/2 - a\n",
    "        return y\n",
    "    \n",
    "    def arctan(self):\n",
    "        a = self/((1+self**2)**0.5)\n",
    "        y = autoDiff.arcsin(a)\n",
    "        return y\n",
    "    \n",
    "    def arccot(self):\n",
    "        a = autoDiff.arctan(self)\n",
    "        y = np.pi/2 - a\n",
    "        return y\n",
    "    \n",
    "    def arcsec(self):\n",
    "        a = 1/self\n",
    "        y = autoDiff.arccos(a)\n",
    "        return y\n",
    "    \n",
    "    def arccsc(self):\n",
    "        a = autoDiff.arcsec(self)\n",
    "        y = np.pi/2 - a\n",
    "        return y\n",
    "    \n",
    "    #### Do we need to implement hyperbolic function e.g. sinh, cosh, tanh, coth, etc.? ####\n",
    "        "
   ]
  },
  {
   "cell_type": "markdown",
   "metadata": {},
   "source": [
    "logarithm can be treated as inverse function of exponential function with the same base:<br/>\n",
    "$$f(x)=a^x\\rightarrow f^{-1}(x)=log_a(x)$$\n",
    "So we have:<br/>\n",
    "$$\\frac{df^{-1}(x)}{dx}=\\frac{dlog_a(x)}{dx}=\\frac{1}{a^{f^{-1}(x)}ln(a)}=\\frac{1}{xln(a)}$$"
   ]
  },
  {
   "cell_type": "markdown",
   "metadata": {},
   "source": [
    "Note that an extreme case in logarithm function is in the form of: $f(x)=\\log_{U(x)}V(x)$, where the derivative is:\n",
    "$$f'(x)=\\left[\\frac{\\ln(V(x))}{\\ln(U(x))}\\right]'=\\frac{\\frac{V'(x)\\ln(U(x))}{V(x)}-\\frac{U'(x)\\ln(V(x))}{U(x)}}{ln^2(U(x))}$$"
   ]
  },
  {
   "cell_type": "markdown",
   "metadata": {},
   "source": [
    "Some rules (there are more!) regarding trigonometric and inverse trigonometric functions:\n",
    "- $\\tan(x)=\\frac{sin(x)}{cos(x)}$\n",
    "- $\\sec(x)=\\frac{1}{cos(x)}$\n",
    "- $\\arccos(x)=\\frac{\\pi}{2}-\\arcsin(x)$, where x$\\in$(-1,1)\n",
    "- ..."
   ]
  },
  {
   "cell_type": "code",
   "execution_count": 2,
   "metadata": {},
   "outputs": [],
   "source": [
    "a = 2.0; b = 5.8; c = 3.0; d = -2.75; e = 4.0; inc = 0.0000001"
   ]
  },
  {
   "cell_type": "markdown",
   "metadata": {},
   "source": [
    "Test Case #1:<br/>\n",
    "$$f(x)=-4x^{5.8} + 3$$"
   ]
  },
  {
   "cell_type": "code",
   "execution_count": 3,
   "metadata": {},
   "outputs": [
    {
     "name": "stdout",
     "output_type": "stream",
     "text": [
      "-219.86094420380775 -646.2967381910424\n",
      "-219.86094420380775 -646.2968147502579\n"
     ]
    }
   ],
   "source": [
    "x = autoDiff(a)\n",
    "f = -e*x**b + c\n",
    "print(f.val, f.deriv)\n",
    "g0 = -e*a**b + c\n",
    "g1 = -e*(a+inc)**b + c\n",
    "print(g0, (g1-g0)/inc)"
   ]
  },
  {
   "cell_type": "markdown",
   "metadata": {},
   "source": [
    "<hr style=\"height:2pt\">"
   ]
  },
  {
   "cell_type": "markdown",
   "metadata": {},
   "source": [
    "Test Case #2:<br/>\n",
    "$$f(x)=-2.75\\cdot 5.8^x\\cdot x^3-\\frac{\\cos(x)}{x}$$"
   ]
  },
  {
   "cell_type": "code",
   "execution_count": 4,
   "metadata": {},
   "outputs": [
    {
     "name": "stdout",
     "output_type": "stream",
     "text": [
      "-739.8719265817265 -2410.7248756178847\n",
      "-739.8719265817265 -2410.7252363592124\n"
     ]
    }
   ],
   "source": [
    "x = autoDiff(a)\n",
    "f = d*autoDiff.exp(b,x) * x**c-autoDiff.cos(x)/x\n",
    "print(f.val, f.deriv)\n",
    "g0 = d*(b**a) * a**c-np.cos(a)/a\n",
    "a1 = a + inc\n",
    "g1 = d*(b**(a1)) * (a1)**c-np.cos(a1)/a1\n",
    "print(g0, (g1-g0)/inc)"
   ]
  },
  {
   "cell_type": "markdown",
   "metadata": {},
   "source": [
    "<hr style=\"height:2pt\">"
   ]
  },
  {
   "cell_type": "markdown",
   "metadata": {},
   "source": [
    "Test Case #3:<br/>\n",
    "$$f(x)=(3x+\\log_x(5.8))^{\\sqrt{x}+\\frac{1}{x}}$$"
   ]
  },
  {
   "cell_type": "code",
   "execution_count": 5,
   "metadata": {},
   "outputs": [
    {
     "name": "stdout",
     "output_type": "stream",
     "text": [
      "60.621261109269476 29.37478740554978\n",
      "60.621261109269476 29.374791523650856\n"
     ]
    }
   ],
   "source": [
    "x = autoDiff(a)\n",
    "f = (c*x + autoDiff.logx(x,b))**(x**(1/2)+1/x)\n",
    "print(f.val, f.deriv)\n",
    "g0 = (c*a + np.log(b)/np.log(a))**(a**(1/2)+1/a)\n",
    "a1 = a + inc\n",
    "g1 = (c*a1 + np.log(b)/np.log(a1))**(a1**(1/2)+1/a1)\n",
    "print(g0, (g1-g0)/inc)"
   ]
  },
  {
   "cell_type": "markdown",
   "metadata": {},
   "source": [
    "<hr style=\"height:2pt\">"
   ]
  },
  {
   "cell_type": "markdown",
   "metadata": {},
   "source": [
    "Test Case #4:<br/>\n",
    "$$f(x)=x-\\exp\\left(-2\\sin^2(4x)\\right)$$"
   ]
  },
  {
   "cell_type": "code",
   "execution_count": 6,
   "metadata": {},
   "outputs": [
    {
     "name": "stdout",
     "output_type": "stream",
     "text": [
      "1.858811511058501 0.6748109260705084\n",
      "1.858811511058501 0.674810454182051\n"
     ]
    }
   ],
   "source": [
    "x = autoDiff(a)\n",
    "bs = np.exp(1)\n",
    "f = x-autoDiff.exp(bs,-2*autoDiff.sin(4*x)**2)\n",
    "print(f.val, f.deriv)\n",
    "g0 = a-np.exp(-2*np.sin(4*a)**2)\n",
    "a1 = a + inc\n",
    "g1 = a1-np.exp(-2*np.sin(4*a1)**2)\n",
    "print(g0, (g1-g0)/inc)"
   ]
  },
  {
   "cell_type": "markdown",
   "metadata": {},
   "source": [
    "<hr style=\"height:2pt\">"
   ]
  },
  {
   "cell_type": "markdown",
   "metadata": {},
   "source": [
    "Test Case #5:<br/>\n",
    "$$f(x)=\\exp\\left(-\\sqrt{x+\\cos^2(3x)}\\right)\\sin\\left(x\\ln(1+x^2)\\right)$$"
   ]
  },
  {
   "cell_type": "code",
   "execution_count": 7,
   "metadata": {},
   "outputs": [
    {
     "name": "stdout",
     "output_type": "stream",
     "text": [
      "-0.013972848911640818 -0.5684464955717082\n",
      "-0.013972848911640818 -0.5684464572837389\n"
     ]
    }
   ],
   "source": [
    "x = autoDiff(a)\n",
    "bs = np.exp(1)\n",
    "f = autoDiff.exp(bs,-(x+autoDiff.cos(3*x)**2)**0.5)*autoDiff.sin(x*autoDiff.log(bs,1+x**2))\n",
    "print(f.val, f.deriv)\n",
    "g0 = np.exp(-(a+np.cos(3*a)**2)**0.5)*np.sin(a*np.log(1+a**2))\n",
    "a1 = a + inc\n",
    "g1 = np.exp(-(a1+np.cos(3*a1)**2)**0.5)*np.sin(a1*np.log(1+a1**2))\n",
    "print(g0, (g1-g0)/inc)"
   ]
  },
  {
   "cell_type": "markdown",
   "metadata": {},
   "source": [
    "<hr style=\"height:2pt\">"
   ]
  },
  {
   "cell_type": "markdown",
   "metadata": {},
   "source": [
    "Test Case #6:<br/>\n",
    "$$f(x)=\\frac{\\ln(3x)}{x^x}$$"
   ]
  },
  {
   "cell_type": "code",
   "execution_count": 8,
   "metadata": {},
   "outputs": [
    {
     "name": "stdout",
     "output_type": "stream",
     "text": [
      "0.44793986730701374 -0.6334281233912664\n",
      "0.44793986730701374 -0.633428093310684\n"
     ]
    }
   ],
   "source": [
    "x = autoDiff(a)\n",
    "bs = np.exp(1)\n",
    "f = autoDiff.log(bs,3*x)/(x**x)\n",
    "print(f.val, f.deriv)\n",
    "g0 = np.log(3*a)/(a**a)\n",
    "g1 = np.log(3*a1)/(a1**a1)\n",
    "print(g0, (g1-g0)/inc)"
   ]
  },
  {
   "cell_type": "markdown",
   "metadata": {},
   "source": [
    "<hr style=\"height:2pt\">"
   ]
  },
  {
   "cell_type": "markdown",
   "metadata": {},
   "source": [
    "Test Case #7:<br/>\n",
    "$$f(x)=\\log_{x^{1/3}}\\left[\\arccos\\left(\\exp\\left(-\\frac{3}{x}\\right)\\right)\\right]$$"
   ]
  },
  {
   "cell_type": "code",
   "execution_count": 9,
   "metadata": {},
   "outputs": [
    {
     "name": "stdout",
     "output_type": "stream",
     "text": [
      "1.2853017513220446 -1.47926913780827\n",
      "1.2853017513220453 -1.4792690028464506\n"
     ]
    }
   ],
   "source": [
    "x = autoDiff(a)\n",
    "bs = np.exp(1)\n",
    "f = autoDiff.logx(x**(1/3),autoDiff.arccos(autoDiff.exp(bs,-3/x)))\n",
    "print(f.val, f.deriv)\n",
    "g0 = np.log(np.arccos(np.exp(-3/a)))/np.log(a**(1/3))\n",
    "g1 = np.log(np.arccos(np.exp(-3/a1)))/np.log(a1**(1/3))\n",
    "print(g0, (g1-g0)/inc)"
   ]
  },
  {
   "cell_type": "markdown",
   "metadata": {},
   "source": [
    "<hr style=\"height:2pt\">"
   ]
  },
  {
   "cell_type": "markdown",
   "metadata": {},
   "source": [
    "Test Case #7:<br/>\n",
    "$$f(x,y)=\\sin(x^2-3y)\\cdot \\ln(-xy)$$"
   ]
  },
  {
   "cell_type": "code",
   "execution_count": 10,
   "metadata": {},
   "outputs": [
    {
     "name": "stdout",
     "output_type": "stream",
     "text": [
      "-0.5303801268625262 6.325011876339967\n",
      "-0.5303801268625262 -4.74729435447067\n"
     ]
    }
   ],
   "source": [
    "x = autoDiff(a)\n",
    "y = autoDiff(d)\n",
    "bs = np.exp(1)\n",
    "f_x = autoDiff.sin(x**2-3*y.val)*autoDiff.log(bs,-x*y.val)\n",
    "print(f_x.val,f_x.deriv)\n",
    "f_y = autoDiff.sin(x.val**2-3*y)*autoDiff.log(bs,-x.val*y)\n",
    "print(f_y.val,f_y.deriv)"
   ]
  },
  {
   "cell_type": "code",
   "execution_count": 11,
   "metadata": {},
   "outputs": [
    {
     "name": "stdout",
     "output_type": "stream",
     "text": [
      "-0.5303801268625262 6.325012628094484\n",
      "-0.5303801268625262 -4.747294010121195\n"
     ]
    }
   ],
   "source": [
    "a1 = a+inc; d1 = d+inc\n",
    "g0 = np.sin(a**2-3*d)*np.log(-a*d)\n",
    "g1_x = np.sin(a1**2-3*d)*np.log(-a1*d)\n",
    "g1_y = np.sin(a**2-3*d1)*np.log(-a*d1)\n",
    "print(g0, (g1_x-g0)/inc)\n",
    "print(g0, (g1_y-g0)/inc)"
   ]
  },
  {
   "cell_type": "code",
   "execution_count": 12,
   "metadata": {},
   "outputs": [
    {
     "name": "stdout",
     "output_type": "stream",
     "text": [
      "-0.5303801268625262 6.325011876339967\n",
      "6.325011876339967 -9.172475388686621\n"
     ]
    }
   ],
   "source": [
    "x = autoDiff(a)\n",
    "y = autoDiff(d)\n",
    "bs = np.exp(1)\n",
    "f_x = autoDiff.sin(x**2-3*y.val)*autoDiff.log(bs,-x*y.val)\n",
    "print(f_x.val,f_x.deriv)\n",
    "f_y = 2*x.val*autoDiff.cos(x.val**2-3*y)*autoDiff.log(bs,-x.val*y)+autoDiff.sin(x.val**2-3*y)/x.val\n",
    "print(f_y.val,f_y.deriv)"
   ]
  },
  {
   "cell_type": "code",
   "execution_count": 13,
   "metadata": {},
   "outputs": [
    {
     "name": "stdout",
     "output_type": "stream",
     "text": [
      "-9.172403947488306\n"
     ]
    }
   ],
   "source": [
    "inc2 = 0.00001\n",
    "a1 = a+inc2; d1 = d+inc2\n",
    "g0_x = np.sin(a**2-3*d)*np.log(-a*d)\n",
    "g1_x = np.sin(a1**2-3*d)*np.log(-a1*d)\n",
    "g0_y = np.sin(a**2-3*d1)*np.log(-a*d1)\n",
    "g1_y = np.sin(a1**2-3*d1)*np.log(-a1*d1)\n",
    "print(((g1_y-g0_y)/inc2-(g1_x-g0_x)/inc2)/inc2)"
   ]
  },
  {
   "cell_type": "code",
   "execution_count": null,
   "metadata": {},
   "outputs": [],
   "source": []
  }
 ],
 "metadata": {
  "kernelspec": {
   "display_name": "Python 3",
   "language": "python",
   "name": "python3"
  },
  "language_info": {
   "codemirror_mode": {
    "name": "ipython",
    "version": 3
   },
   "file_extension": ".py",
   "mimetype": "text/x-python",
   "name": "python",
   "nbconvert_exporter": "python",
   "pygments_lexer": "ipython3",
   "version": "3.6.5"
  }
 },
 "nbformat": 4,
 "nbformat_minor": 2
}
