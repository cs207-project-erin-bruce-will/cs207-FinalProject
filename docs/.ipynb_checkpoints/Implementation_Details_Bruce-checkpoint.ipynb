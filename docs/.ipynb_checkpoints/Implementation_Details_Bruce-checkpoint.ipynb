{
 "cells": [
  {
   "cell_type": "markdown",
   "metadata": {},
   "source": [
    "## Dependency:\n",
    "- math\n",
    "- numbers\n",
    "- defaultdict"
   ]
  },
  {
   "cell_type": "markdown",
   "metadata": {},
   "source": [
    "## \"autodiff\" Class Methods:\n",
    "- We overload common operators such as `__add__`, `__sub__`, `__mul__`, and `__truediv__` and their commutative pairs `__radd__`, `__rsub__`, `__rmul__`, and `__rtruediv__`.\n",
    "    - The basic rules for derivatives of multiplication and division are applied:\n",
    "    $$\\frac{d[u(x)\\cdot v(x)]}{dx}=u'(x)\\cdot v(x)+u(x)\\cdot v'(x)$$\n",
    "    $$\\frac{d\\left[\\frac{u(x)}{v(x)}\\right]}{dx}=\\frac{u'(x)\\cdot v(x)-u(x)\\cdot v'(x)}{v^2(x)}$$\n",
    "- We overload unary operator `__neg__`\n",
    "- We also overload `__pow__` and `__rpow__`. We implement them as the general form below:\n",
    "    $$f(x)=\\left[u(x)\\right]^{v(x)}$$\n",
    "\n",
    "    - Therefore when we implement the derivatives, including the very special case such as $y=x^x$, the following chain rule applies:\n",
    "$$\\frac{df(x)}{dx}=\\frac{d\\left[u(x)\\right]^{v(x)}}{dx}=v(x)\\left[u(x)\\right]^{v(x)-1}\\cdot u'(x)+\\left[u(x)\\right]^{v(x)}\\cdot ln(u(x))\\cdot v'(x)$$\n",
    "    - The above basically covers most of the powers/ roots/ exponential functions, such as:\n",
    "        - $y=x^{2.6}$\n",
    "        - $y=\\sqrt[3]{x^2}$\n",
    "        - $y=2^x-3x^5$\n",
    "        - One special Case is $y = \\sqrt{u(x)}$. We implement it as one of the elementary functions for convenience.\n",
    "        - Another special case is exponential function with natural base $y=e^x$. We also implement it separately for convenience purpose."
   ]
  },
  {
   "cell_type": "markdown",
   "metadata": {},
   "source": [
    "## Elementary Functions Implementation Details:\n",
    "- General form of logarithm function:\n",
    "$$y=\\log_{u(x)}v(x)$$\n",
    "    - We first implement a special case $y=\\ln(x)$, the logarithm function with natural base: $\\frac{d\\ln(x)}{dx}=\\frac{1}{x}$\n",
    "    - Then $y=\\log_{u(x)}v(x)=\\frac{\\ln\\left(v(x)\\right)}{\\ln\\left(u(x)\\right)}$.\n",
    "    - To get the derivatives, we just apply division rule.\n",
    "    - We set up checks for domains of both base and exponent: both must be strictly positive to be meaningful.\n",
    "    \n",
    "- Trigonometric and anti-trigonometric functions:\n",
    "    - `sin(x)`, `cos(x)`, `tan(x)`, `cot(x)`, `sec(x)`, `csc(x)`: the last four can be derived from `sin(x)` or `cos(x)`. For example, $\\tan(x)=\\frac{\\sin(x)}{\\cos(x)}$\n",
    "    - `arcsin(x)`, `arccos(x)`, `arctan(x)`, `arccot(x)`, `arcsec(x)`, `arccsc(x)`: essentially we only need to implement `arcsin(x)` and all other anti-trigonometric functions can be derived from `arcsin(x)`. For example: $\\arctan(x)=\\arcsin\\left(\\frac{x}{\\sqrt{1+x^2}}\\right)$.\n",
    "    - We set up checks for domain of `arcsin(x)` because it has to be between -1 and 1."
   ]
  }
 ],
 "metadata": {
  "kernelspec": {
   "display_name": "Python 3",
   "language": "python",
   "name": "python3"
  },
  "language_info": {
   "codemirror_mode": {
    "name": "ipython",
    "version": 3
   },
   "file_extension": ".py",
   "mimetype": "text/x-python",
   "name": "python",
   "nbconvert_exporter": "python",
   "pygments_lexer": "ipython3",
   "version": "3.6.5"
  }
 },
 "nbformat": 4,
 "nbformat_minor": 2
}
