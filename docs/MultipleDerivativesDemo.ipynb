{
 "cells": [
  {
   "cell_type": "markdown",
   "metadata": {},
   "source": [
    "\n",
    "### Idea of the implementation\n",
    "The key idea is that dual numbers work perfectly if we keep multiple epsilons, one for each variable, and adopt the rule that the product of any two espilons is zero.\n",
    "\n",
    "Example 0:  \n",
    "If we have done some computation so far and are storing $\\{3+4\\epsilon_x+5\\epsilon_y\\}$, we'd say that node of the computation has value 3, $\\frac{d}{dx}=4$ and $\\frac{d}{dy}=5$. Implicitly, $\\frac{d}{dz}=0$; z's value does not affect this node of the computation.\n",
    "\n",
    "Example 1: Adding extended duals\n",
    "$$\\{3+4\\epsilon_x+5\\epsilon_y\\} + \\{2 + 7\\epsilon_y+10\\epsilon_z\\} = 5+4\\epsilon_x+12\\epsilon_y+10\\epsilon_z$$\n",
    "\n",
    "Example 2: Multiplying extended duals\n",
    "$$\\{3+4\\epsilon_x+5\\epsilon_y\\} \\cdot \\{2 + 7\\epsilon_y+10\\epsilon_z\\}\\\\\n",
    "= (6+ 21\\epsilon_y + 30 \\epsilon_z) + (8\\epsilon_x + 28\\epsilon_y\\epsilon_x+40\\epsilon_z\\epsilon_x) + (10\\epsilon_y + 35\\epsilon_y^2+50\\epsilon_z5\\epsilon_y)\\\\\n",
    "= (6+ 21\\epsilon_y + 30 \\epsilon_z)+(8\\epsilon_x + 0+0) + (10\\epsilon_y+0+0)\\\\\n",
    "= 6+ 8\\epsilon_x+ (21+10)\\epsilon_y + 30 \\epsilon_z$$\n",
    "\n",
    "If we were to do the above with symbols instead of numbers, we'd clearly see that the rule is that the real value of the first number distributes, the real value of the second number distributes, and we collect all the terms. More symbolically $\\nabla \\left(f(x,y)\\cdot g(y,z)\\right) = f(x,y)\\cdot\\left(\\text{derivatives of g}\\right) + g(y,x)\\cdot\\left(\\text{derivatives of f}\\right)$\n",
    "\n",
    "Off the cuff, $\\frac{f(x,y)}{g(y,z)}$ should be $\\frac{(\\text{value of g})\\left(\\text{derivatives of f}\\right) -\\text{(value of f)}\\left(\\text{derivatives of g}\\right)}{(\\text{value of g})^2}$\n",
    "\n",
    "So the implementation should distribute g's value to all the derivatives we're storing for f, distribute -g's value to all the derivatives we're storing for g, and add the two."
   ]
  },
  {
   "cell_type": "markdown",
   "metadata": {},
   "source": [
    "### Code\n",
    "\n",
    "Note that I use a `defaultdict` to store the derivatives. That way if we ask for one that isn't there, we get back 0 instead of an error.\n",
    "\n",
    "I haven't put in any pretty printing or for the outputs, so there's a little clutter in the results"
   ]
  },
  {
   "cell_type": "code",
   "execution_count": 3,
   "metadata": {},
   "outputs": [
    {
     "name": "stdout",
     "output_type": "stream",
     "text": [
      "defaultdict(<class 'float'>, {'z': 30.0, 'y': 1.5, 'x': 5.0})\n",
      "defaultdict(<class 'float'>, {'x': 6.0})\n",
      "defaultdict(<class 'float'>, {'y': 300.0})\n",
      "\n",
      "defaultdict(<class 'float'>, {'z': 103.0, 'x': 0.5, 'y': 10.0})\n"
     ]
    }
   ],
   "source": [
    "from collections import defaultdict\n",
    "\n",
    "class DualNumber:\n",
    "\n",
    "    def __init__(self, name, value, derivatives=None):\n",
    "        # ideally, we should block users from using the derivtives interface. May require separate classes\n",
    "        self.value = value\n",
    "        if name is not None:\n",
    "            self.derivatives = defaultdict(float)\n",
    "            self.derivatives[name] = 1\n",
    "        else:\n",
    "            self.derivatives = derivatives\n",
    "            \n",
    "    @classmethod\n",
    "    def emptyDual(cls):\n",
    "        return cls(None,0,defaultdict(float))\n",
    "    \n",
    "    def __mul__(self, other):\n",
    "        output=self.emptyDual()\n",
    "        \n",
    "        output.value = self.value*other.value\n",
    "        \n",
    "        # real part of first parent distributes\n",
    "        for k2 in other.derivatives:\n",
    "            output.derivatives[k2] += self.value*other.derivatives[k2]\n",
    "        \n",
    "        # real part of the second parent distributes\n",
    "        for k1 in self.derivatives:\n",
    "            output.derivatives[k1] += other.value*self.derivatives[k1]\n",
    "            \n",
    "        return output\n",
    "    \n",
    "    def __add__(self, other):\n",
    "        output=self.emptyDual()\n",
    "        \n",
    "        output.value = self.value + other.value\n",
    "        for k1 in self.derivatives:\n",
    "            output.derivatives[k1] += self.derivatives[k1]\n",
    "        for k2 in other.derivatives:\n",
    "            output.derivatives[k2] += other.derivatives[k2]\n",
    "        \n",
    "        return output\n",
    "                \n",
    "x = DualNumber('x', 3)\n",
    "y = DualNumber('y', 10)\n",
    "z = DualNumber('z', .5)\n",
    "\n",
    "print((x*y*z).derivatives) # derivative wrt z is xy = 30, wrt y is xz = 1.5, wrt z is xy = 5\n",
    "print((x*x).derivatives)   # 2x = 6\n",
    "print((y*y*y).derivatives) # 3y^2 = 300\n",
    "print()\n",
    "print(((x+y*y)*z).derivatives) #wrt z is x+y^2 = 103, wrt y is 2zy = 10, wrt x is z = .5"
   ]
  },
  {
   "cell_type": "markdown",
   "metadata": {},
   "source": [
    "### Usage Example"
   ]
  },
  {
   "cell_type": "code",
   "execution_count": 4,
   "metadata": {},
   "outputs": [
    {
     "name": "stdout",
     "output_type": "stream",
     "text": [
      "defaultdict(<class 'float'>, {'x': 104.0, 'z': 63.0, 'y': 70.0})\n",
      "defaultdict(<class 'float'>, {'x': 20.0, 'z': 0.0, 'y': 0.0})\n"
     ]
    }
   ],
   "source": [
    "def my_fun(x,y,z):\n",
    "    return (x+y*z+z)*x\n",
    "\n",
    "print(my_fun(DualNumber('x',7), DualNumber('y',8), DualNumber('z',10)).derivatives) #gradient at 7,8,10\n",
    "print(my_fun(DualNumber('x',0), DualNumber('y',3), DualNumber('z',5)).derivatives) #gradient at 0,3,5"
   ]
  },
  {
   "cell_type": "code",
   "execution_count": null,
   "metadata": {},
   "outputs": [],
   "source": []
  }
 ],
 "metadata": {
  "kernelspec": {
   "display_name": "Python 3",
   "language": "python",
   "name": "python3"
  },
  "language_info": {
   "codemirror_mode": {
    "name": "ipython",
    "version": 3
   },
   "file_extension": ".py",
   "mimetype": "text/x-python",
   "name": "python",
   "nbconvert_exporter": "python",
   "pygments_lexer": "ipython3",
   "version": "3.6.4"
  }
 },
 "nbformat": 4,
 "nbformat_minor": 2
}
